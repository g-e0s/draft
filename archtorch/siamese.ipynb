{
 "cells": [
  {
   "cell_type": "code",
   "execution_count": 1,
   "metadata": {},
   "outputs": [],
   "source": [
    "import os\n",
    "os.environ['PYTHONPATH'] = '/Users/g.sarapulov/Projects/draft/archtorch'\n",
    "import sys\n",
    "sys.path.append('/Users/g.sarapulov/Projects/draft/archtorch')"
   ]
  },
  {
   "cell_type": "code",
   "execution_count": 2,
   "metadata": {},
   "outputs": [],
   "source": [
    "from data.input import FileParser, DataSampler\n",
    "from loss.margin import ContrastiveLoss\n",
    "from network.siamese import Siamese, Encoder\n",
    "from train.fit import NetworkTrainer"
   ]
  },
  {
   "cell_type": "code",
   "execution_count": 3,
   "metadata": {},
   "outputs": [],
   "source": [
    "train_path = 'train_db/'\n",
    "test_path = 'test_db/'\n",
    "parser = FileParser('.txt', ' ')\n",
    "train_dataset = DataSampler(parser, train_path)\n",
    "test_dataset = DataSampler(parser, test_path)"
   ]
  },
  {
   "cell_type": "code",
   "execution_count": 4,
   "metadata": {},
   "outputs": [],
   "source": [
    "model = Siamese(Encoder())\n",
    "loss = ContrastiveLoss(margin=1.)\n",
    "trainer = NetworkTrainer(train_dataset, test_dataset, log_interval=1000)"
   ]
  },
  {
   "cell_type": "code",
   "execution_count": 5,
   "metadata": {},
   "outputs": [
    {
     "name": "stdout",
     "output_type": "stream",
     "text": [
      "Train: [0/52284 (0%)]\tLoss: 0.191492\n",
      "Epoch: 1/5. Train set: Average loss: 0.1422\n",
      "Epoch: 1/5. Validation set: Average loss: 0.1769\n",
      "Train: [0/52284 (0%)]\tLoss: 0.146064\n",
      "Epoch: 2/5. Train set: Average loss: 0.1379\n",
      "Epoch: 2/5. Validation set: Average loss: 0.1730\n",
      "Train: [0/52284 (0%)]\tLoss: 0.142462\n",
      "Epoch: 3/5. Train set: Average loss: 0.1374\n",
      "Epoch: 3/5. Validation set: Average loss: 0.1847\n",
      "Train: [0/52284 (0%)]\tLoss: 0.142973\n",
      "Epoch: 4/5. Train set: Average loss: 0.1371\n",
      "Epoch: 4/5. Validation set: Average loss: 0.1719\n",
      "Train: [0/52284 (0%)]\tLoss: 0.141518\n",
      "Epoch: 5/5. Train set: Average loss: 0.1376\n",
      "Epoch: 5/5. Validation set: Average loss: 0.1767\n"
     ]
    }
   ],
   "source": [
    "model = trainer.fit_model(model, loss, lr=1e-3, n_epochs=5)"
   ]
  },
  {
   "cell_type": "code",
   "execution_count": null,
   "metadata": {},
   "outputs": [],
   "source": []
  }
 ],
 "metadata": {
  "kernelspec": {
   "display_name": "Python 3",
   "language": "python",
   "name": "python3"
  },
  "language_info": {
   "codemirror_mode": {
    "name": "ipython",
    "version": 3
   },
   "file_extension": ".py",
   "mimetype": "text/x-python",
   "name": "python",
   "nbconvert_exporter": "python",
   "pygments_lexer": "ipython3",
   "version": "3.6.0"
  }
 },
 "nbformat": 4,
 "nbformat_minor": 2
}
